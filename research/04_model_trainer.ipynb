{
 "cells": [
  {
   "cell_type": "code",
   "execution_count": 1,
   "id": "dfb5c030",
   "metadata": {},
   "outputs": [],
   "source": [
    "import os"
   ]
  },
  {
   "cell_type": "code",
   "execution_count": 2,
   "id": "9ccf0449",
   "metadata": {},
   "outputs": [
    {
     "data": {
      "text/plain": [
       "'d:\\\\End-to-End-Wine-Quality-predidection\\\\research'"
      ]
     },
     "execution_count": 2,
     "metadata": {},
     "output_type": "execute_result"
    }
   ],
   "source": [
    "%pwd"
   ]
  },
  {
   "cell_type": "code",
   "execution_count": 3,
   "id": "783c9c90",
   "metadata": {},
   "outputs": [],
   "source": [
    "os.chdir(\"../\")"
   ]
  },
  {
   "cell_type": "code",
   "execution_count": 4,
   "id": "037ebe9c",
   "metadata": {},
   "outputs": [
    {
     "data": {
      "text/plain": [
       "'d:\\\\End-to-End-Wine-Quality-predidection'"
      ]
     },
     "execution_count": 4,
     "metadata": {},
     "output_type": "execute_result"
    }
   ],
   "source": [
    "%pwd"
   ]
  },
  {
   "cell_type": "code",
   "execution_count": 5,
   "id": "7ab6b0d9",
   "metadata": {},
   "outputs": [],
   "source": [
    "\n",
    "from dataclasses import dataclass\n",
    "from pathlib import Path\n",
    "\n",
    "\n",
    "@dataclass(frozen=True)\n",
    "class ModelTrainerConfig:\n",
    "    root_dir: Path\n",
    "    train_data_path: Path\n",
    "    test_data_path: Path\n",
    "    model_name: str\n",
    "    alpha: float\n",
    "    l1_ratio: float\n",
    "    target_column: str"
   ]
  },
  {
   "cell_type": "code",
   "execution_count": 6,
   "id": "abcad88a",
   "metadata": {},
   "outputs": [],
   "source": [
    "#Configuration Manager\n",
    "\n",
    "from ML_Project.constants import *\n",
    "from ML_Project.entity.config_entity import DataIngestionConfig, DataTransformationConfig, DataValidationConfig\n",
    "from ML_Project.utils.common import create_directories\n",
    "\n",
    "\n",
    "class ConfigurationManager:\n",
    "    def __init__(\n",
    "        self,\n",
    "        config_filepath = CONFIG_FILE_PATH,\n",
    "        params_filepath = PARAMS_FILE_PATH,\n",
    "        schema_filepath= SCHEMA_FILE_PATH\n",
    "    ):\n",
    "        self.config = read_yaml(config_filepath)\n",
    "        self.params = read_yaml(params_filepath)\n",
    "        self.schema = read_yaml(schema_filepath)\n",
    "        create_directories([Path(self.config.artifact_root)])\n",
    "\n",
    "    def get_data_ingestion_config(self) -> DataIngestionConfig:\n",
    "    \n",
    "        config = self.config.data_ingestion\n",
    "        data_ingestion_config = DataIngestionConfig(\n",
    "            root_dir=config.root_dir,\n",
    "            source_url=config.source_URL,\n",
    "            local_data_file=config.local_data_file,\n",
    "            unzip_dir=config.unzip_dir,\n",
    "            artifact_dir=self.config.artifact_root\n",
    "        )\n",
    "       \n",
    "        return data_ingestion_config\n",
    "    \n",
    "    def get_data_validation_config(self) -> DataValidationConfig:\n",
    "        config=self.config.data_validation\n",
    "        root_dir=Path(config.root_dir)\n",
    "        create_directories([root_dir])\n",
    "        data_validation_config=DataValidationConfig(\n",
    "            root_dir=Path(config.root_dir),\n",
    "            unzip_data_dir=Path(config.unzip_data_dir),\n",
    "            STATUS_FILE=Path(config.STATUS_FILE),\n",
    "            all_schema=self.schema\n",
    "        )\n",
    "        return data_validation_config\n",
    "    \n",
    "    def get_data_transformation_config(self) -> DataTransformationConfig:\n",
    "        config=self.config.data_transformation\n",
    "        root_dir=Path(config.root_dir)\n",
    "        create_directories([root_dir])\n",
    "        data_transformation_config=DataTransformationConfig(\n",
    "            root_dir=root_dir,\n",
    "            data_path=Path(config.data_path)\n",
    "        )\n",
    "        return data_transformation_config\n",
    "    \n",
    "    def get_model_trainer_config(self) -> ModelTrainerConfig:\n",
    "        config=self.config.model_trainer\n",
    "        params=self.params.Elasticsearch\n",
    "        schema=self.schema.TARGET_COLUMN\n",
    "        model_trainer_config=ModelTrainerConfig(\n",
    "            root_dir=Path(config.root_dir),\n",
    "            train_data_path=Path(config.train_data_path),\n",
    "            test_data_path=Path(config.test_data_path),\n",
    "            model_name=config.model_name,\n",
    "            alpha=params.alpha,\n",
    "            l1_ratio=params.l1_ratio,\n",
    "            target_column=schema.name\n",
    "        )\n",
    "        return model_trainer_config\n",
    "\n",
    "\n",
    "\n",
    "\n",
    "\n",
    "\n",
    "\n",
    "\n",
    "\n"
   ]
  },
  {
   "cell_type": "code",
   "execution_count": 7,
   "id": "efe7644b",
   "metadata": {},
   "outputs": [],
   "source": [
    "\n",
    "import joblib\n",
    "from sklearn.linear_model import ElasticNet\n",
    "import pandas as pd\n",
    "class ModelTrainer:\n",
    "    def __init__(self, config: ModelTrainerConfig):\n",
    "        self.config = config\n",
    "    \n",
    "    def train(self):\n",
    "        train_data=pd.read_csv(self.config.train_data_path)\n",
    "        X_train=train_data.drop(columns=[self.config.target_column],axis=1)\n",
    "        y_train=train_data[self.config.target_column]\n",
    "        model=ElasticNet(alpha=self.config.alpha,l1_ratio=self.config.l1_ratio)\n",
    "        model.fit(X_train,y_train) \n",
    "        os.makedirs(self.config.root_dir, exist_ok=True)\n",
    "        joblib.dump(model,os.path.join(self.config.root_dir,self.config.model_name))\n",
    "     \n"
   ]
  },
  {
   "cell_type": "code",
   "execution_count": 8,
   "id": "d20d1659",
   "metadata": {},
   "outputs": [
    {
     "name": "stdout",
     "output_type": "stream",
     "text": [
      "[2025-10-07 17:01:23,795] :INFO:common: Created directory at: artifacts :\n"
     ]
    }
   ],
   "source": [
    "\n",
    "config=ConfigurationManager()\n",
    "model_trainer_config=config.get_model_trainer_config()\n",
    "model_trainer=ModelTrainer(config=model_trainer_config)\n",
    "model_trainer.train()\n"
   ]
  },
  {
   "cell_type": "code",
   "execution_count": null,
   "id": "676ffdf1",
   "metadata": {},
   "outputs": [],
   "source": []
  }
 ],
 "metadata": {
  "kernelspec": {
   "display_name": "venv",
   "language": "python",
   "name": "python3"
  },
  "language_info": {
   "codemirror_mode": {
    "name": "ipython",
    "version": 3
   },
   "file_extension": ".py",
   "mimetype": "text/x-python",
   "name": "python",
   "nbconvert_exporter": "python",
   "pygments_lexer": "ipython3",
   "version": "3.11.0"
  }
 },
 "nbformat": 4,
 "nbformat_minor": 5
}
