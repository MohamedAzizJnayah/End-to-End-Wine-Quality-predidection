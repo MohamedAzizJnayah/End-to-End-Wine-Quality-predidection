{
 "cells": [
  {
   "cell_type": "code",
   "execution_count": 1,
   "id": "44b939d9",
   "metadata": {},
   "outputs": [],
   "source": [
    "import os"
   ]
  },
  {
   "cell_type": "code",
   "execution_count": 2,
   "id": "b90efcb5",
   "metadata": {},
   "outputs": [
    {
     "data": {
      "text/plain": [
       "'d:\\\\End-to-End-Wine-Quality-predidection\\\\research'"
      ]
     },
     "execution_count": 2,
     "metadata": {},
     "output_type": "execute_result"
    }
   ],
   "source": [
    "%pwd"
   ]
  },
  {
   "cell_type": "code",
   "execution_count": 3,
   "id": "260c951e",
   "metadata": {},
   "outputs": [],
   "source": [
    "os.chdir(\"../\")"
   ]
  },
  {
   "cell_type": "code",
   "execution_count": 4,
   "id": "bfa8e607",
   "metadata": {},
   "outputs": [
    {
     "data": {
      "text/plain": [
       "'d:\\\\End-to-End-Wine-Quality-predidection'"
      ]
     },
     "execution_count": 4,
     "metadata": {},
     "output_type": "execute_result"
    }
   ],
   "source": [
    "%pwd"
   ]
  },
  {
   "cell_type": "code",
   "execution_count": 5,
   "id": "06a63e0d",
   "metadata": {},
   "outputs": [],
   "source": [
    "from dataclasses import dataclass\n",
    "from pathlib import Path\n",
    "\n",
    "\n",
    "@dataclass(frozen=True)\n",
    "class ModelEvaluationConfig:\n",
    "    root_dir:Path\n",
    "    test_data_path:Path\n",
    "    model_path:Path\n",
    "    all_param:dict\n",
    "    metrics_file_name:Path\n",
    "    target_column:str"
   ]
  },
  {
   "cell_type": "code",
   "execution_count": 6,
   "id": "e16a2d6f",
   "metadata": {},
   "outputs": [],
   "source": [
    "#Configuration Manager\n",
    "\n",
    "from ML_Project.constants import *\n",
    "from ML_Project.entity.config_entity import DataIngestionConfig, DataTransformationConfig, DataValidationConfig, ModelTrainerConfig\n",
    "from ML_Project.utils.common import create_directories\n",
    "\n",
    "\n",
    "class ConfigurationManager:\n",
    "    def __init__(\n",
    "        self,\n",
    "        config_filepath = CONFIG_FILE_PATH,\n",
    "        params_filepath = PARAMS_FILE_PATH,\n",
    "        schema_filepath= SCHEMA_FILE_PATH\n",
    "    ):\n",
    "        self.config = read_yaml(config_filepath)\n",
    "        self.params = read_yaml(params_filepath)\n",
    "        self.schema = read_yaml(schema_filepath)\n",
    "        create_directories([Path(self.config.artifact_root)])\n",
    "\n",
    "    def get_data_ingestion_config(self) -> DataIngestionConfig:\n",
    "    \n",
    "        config = self.config.data_ingestion\n",
    "        data_ingestion_config = DataIngestionConfig(\n",
    "            root_dir=config.root_dir,\n",
    "            source_url=config.source_URL,\n",
    "            local_data_file=config.local_data_file,\n",
    "            unzip_dir=config.unzip_dir,\n",
    "            artifact_dir=self.config.artifact_root\n",
    "        )\n",
    "       \n",
    "        return data_ingestion_config\n",
    "    \n",
    "    def get_data_validation_config(self) -> DataValidationConfig:\n",
    "        config=self.config.data_validation\n",
    "        root_dir=Path(config.root_dir)\n",
    "        create_directories([root_dir])\n",
    "        data_validation_config=DataValidationConfig(\n",
    "            root_dir=Path(config.root_dir),\n",
    "            unzip_data_dir=Path(config.unzip_data_dir),\n",
    "            STATUS_FILE=Path(config.STATUS_FILE),\n",
    "            all_schema=self.schema\n",
    "        )\n",
    "        return data_validation_config\n",
    "    \n",
    "    def get_data_transformation_config(self) -> DataTransformationConfig:\n",
    "        config=self.config.data_transformation\n",
    "        root_dir=Path(config.root_dir)\n",
    "        create_directories([root_dir])\n",
    "        data_transformation_config=DataTransformationConfig(\n",
    "            root_dir=root_dir,\n",
    "            data_path=Path(config.data_path)\n",
    "        )\n",
    "        return data_transformation_config\n",
    "    \n",
    "    def get_model_trainer_config(self) -> ModelTrainerConfig:\n",
    "        config=self.config.model_trainer\n",
    "        params=self.params.Elasticsearch\n",
    "        schema=self.schema.TARGET_COLUMN\n",
    "        model_trainer_config=ModelTrainerConfig(\n",
    "            root_dir=Path(config.root_dir),\n",
    "            train_data_path=Path(config.train_data_path),\n",
    "            test_data_path=Path(config.test_data_path),\n",
    "            model_name=config.model_name,\n",
    "            alpha=params.alpha,\n",
    "            l1_ratio=params.l1_ratio,\n",
    "            target_column=schema.name\n",
    "        )\n",
    "        return model_trainer_config\n",
    "\n",
    "    def get_model_evaluation_config(self)-> ModelEvaluationConfig:\n",
    "        config=self.config.model_evaluation\n",
    "        create_directories([Path(config.root_dir)])\n",
    "        model_evaluation_config=ModelEvaluationConfig(\n",
    "            root_dir=Path(config.root_dir),\n",
    "            test_data_path=Path(config.test_data_path),\n",
    "            model_path=Path(config.model_path),\n",
    "            all_param=self.params,\n",
    "            metrics_file_name=Path(config.metrics_file_name),\n",
    "            target_column=self.schema.TARGET_COLUMN\n",
    "\n",
    "        )\n",
    "        return model_evaluation_config\n",
    "\n",
    "\n",
    "\n",
    "\n",
    "\n",
    "\n"
   ]
  },
  {
   "cell_type": "code",
   "execution_count": 17,
   "id": "9240c49b",
   "metadata": {},
   "outputs": [],
   "source": [
    "import joblib\n",
    "from sklearn.metrics import mean_squared_error,mean_absolute_error,r2_score\n",
    "\n",
    "from ML_Project.utils.common import save_json\n",
    "import pandas as pd\n",
    "\n",
    "class ModelEvaluation :\n",
    "    def __init__(self,config:ModelEvaluationConfig):\n",
    "        self.config=config\n",
    "\n",
    "\n",
    "    def eval_metrics(self):\n",
    "        \n",
    "        X_test=pd.read_csv(self.config.test_data_path).drop(columns=[str(self.config.target_column.name)],axis=1)\n",
    "        y_test=pd.read_csv(self.config.test_data_path)[[str(self.config.target_column.name)]]\n",
    "        model_evaluation=joblib.load(self.config.model_path)\n",
    "        predicted_results=model_evaluation.predict(X_test)\n",
    "\n",
    "\n",
    "        mse=mean_squared_error(y_test,predicted_results)\n",
    "        mae=mean_absolute_error(y_test,predicted_results)\n",
    "        r2=r2_score(y_test,predicted_results)\n",
    "        data={\n",
    "            \"mse\":mse,\n",
    "            \"mae\":mae,\n",
    "            \"r2\":r2\n",
    "        }\n",
    "    #~Save Json\n",
    "        save_json(data,self.config.metrics_file_name)\n",
    "    "
   ]
  },
  {
   "cell_type": "code",
   "execution_count": 18,
   "id": "b0bd07e8",
   "metadata": {},
   "outputs": [
    {
     "name": "stdout",
     "output_type": "stream",
     "text": [
      "[2025-10-07 18:23:11,950] :INFO:common: Created directory at: artifacts :\n",
      "[2025-10-07 18:23:11,951] :INFO:common: Created directory at: artifacts\\model_evaluation :\n",
      "[2025-10-07 18:23:12,017] :INFO:common: created json file at :artifacts\\model_evaluation\\metrics.json :\n"
     ]
    }
   ],
   "source": [
    "\n",
    "config=ConfigurationManager()\n",
    "model_evaluation_config=config.get_model_evaluation_config()\n",
    "model_evaluation=ModelEvaluation(config=model_evaluation_config)\n",
    "model_evaluation.eval_metrics()\n"
   ]
  },
  {
   "cell_type": "code",
   "execution_count": null,
   "id": "93458a20",
   "metadata": {},
   "outputs": [],
   "source": []
  }
 ],
 "metadata": {
  "kernelspec": {
   "display_name": "venv",
   "language": "python",
   "name": "python3"
  },
  "language_info": {
   "codemirror_mode": {
    "name": "ipython",
    "version": 3
   },
   "file_extension": ".py",
   "mimetype": "text/x-python",
   "name": "python",
   "nbconvert_exporter": "python",
   "pygments_lexer": "ipython3",
   "version": "3.11.0"
  }
 },
 "nbformat": 4,
 "nbformat_minor": 5
}
