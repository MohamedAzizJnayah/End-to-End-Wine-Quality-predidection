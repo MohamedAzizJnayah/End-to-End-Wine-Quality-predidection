{
 "cells": [
  {
   "cell_type": "code",
   "execution_count": 1,
   "id": "d960e430",
   "metadata": {},
   "outputs": [],
   "source": [
    "import os"
   ]
  },
  {
   "cell_type": "code",
   "execution_count": 2,
   "id": "18b3edc0",
   "metadata": {},
   "outputs": [
    {
     "data": {
      "text/plain": [
       "'d:\\\\End-to-End-Wine-Quality-predidection\\\\research'"
      ]
     },
     "execution_count": 2,
     "metadata": {},
     "output_type": "execute_result"
    }
   ],
   "source": [
    "%pwd"
   ]
  },
  {
   "cell_type": "code",
   "execution_count": 3,
   "id": "43116913",
   "metadata": {},
   "outputs": [],
   "source": [
    "os.chdir(\"../\")"
   ]
  },
  {
   "cell_type": "code",
   "execution_count": 4,
   "id": "dd67f129",
   "metadata": {},
   "outputs": [
    {
     "data": {
      "text/plain": [
       "'d:\\\\End-to-End-Wine-Quality-predidection'"
      ]
     },
     "execution_count": 4,
     "metadata": {},
     "output_type": "execute_result"
    }
   ],
   "source": [
    "%pwd"
   ]
  },
  {
   "cell_type": "code",
   "execution_count": 5,
   "id": "c2897f38",
   "metadata": {},
   "outputs": [],
   "source": [
    "from dataclasses import dataclass\n",
    "from pathlib import Path\n",
    "@dataclass\n",
    "class DataTransformationConfig:\n",
    "    root_dir: Path\n",
    "    data_path: Path\n"
   ]
  },
  {
   "cell_type": "code",
   "execution_count": 6,
   "id": "09bb3d3d",
   "metadata": {},
   "outputs": [],
   "source": [
    "#Configuration Manager\n",
    "\n",
    "from ML_Project.constants import *\n",
    "from ML_Project.entity.config_entity import DataIngestionConfig, DataValidationConfig\n",
    "from ML_Project.utils.common import create_directories\n",
    "\n",
    "\n",
    "class ConfigurationManager:\n",
    "    def __init__(\n",
    "        self,\n",
    "        config_filepath = CONFIG_FILE_PATH,\n",
    "        params_filepath = PARAMS_FILE_PATH,\n",
    "        schema_filepath= SCHEMA_FILE_PATH\n",
    "    ):\n",
    "        self.config = read_yaml(config_filepath)\n",
    "        self.params = read_yaml(params_filepath)\n",
    "        self.schema = read_yaml(schema_filepath)\n",
    "        create_directories([Path(self.config.artifact_root)])\n",
    "\n",
    "    def get_data_ingestion_config(self) -> DataIngestionConfig:\n",
    "    \n",
    "        config = self.config.data_ingestion\n",
    "        data_ingestion_config = DataIngestionConfig(\n",
    "            root_dir=config.root_dir,\n",
    "            source_url=config.source_URL,\n",
    "            local_data_file=config.local_data_file,\n",
    "            unzip_dir=config.unzip_dir,\n",
    "            artifact_dir=self.config.artifact_root\n",
    "        )\n",
    "       \n",
    "        return data_ingestion_config\n",
    "    \n",
    "    def get_data_validation_config(self) -> DataValidationConfig:\n",
    "        config=self.config.data_validation\n",
    "        root_dir=Path(config.root_dir)\n",
    "        create_directories([root_dir])\n",
    "        data_validation_config=DataValidationConfig(\n",
    "            root_dir=Path(config.root_dir),\n",
    "            unzip_data_dir=Path(config.unzip_data_dir),\n",
    "            STATUS_FILE=Path(config.STATUS_FILE),\n",
    "            all_schema=self.schema\n",
    "        )\n",
    "        return data_validation_config\n",
    "    \n",
    "    def get_data_transformation_config(self) -> DataTransformationConfig:\n",
    "        config=self.config.data_transformation\n",
    "        root_dir=Path(config.root_dir)\n",
    "        create_directories([root_dir])\n",
    "        data_transformation_config=DataTransformationConfig(\n",
    "            root_dir=root_dir,\n",
    "            data_path=Path(config.data_path)\n",
    "        )\n",
    "        return data_transformation_config"
   ]
  },
  {
   "cell_type": "code",
   "execution_count": 7,
   "id": "5f8eedf8",
   "metadata": {},
   "outputs": [],
   "source": [
    "import pandas as pd\n",
    "from sklearn.model_selection import train_test_split    \n",
    "from ML_Project.logging import logger\n",
    "\n",
    "class DataTransformation:\n",
    "    def __init__(self, config: DataTransformationConfig):\n",
    "        self.config = config\n",
    "\n",
    "    def train_test_split(self):\n",
    "        # Implement your train-test split logic here\n",
    "        try:\n",
    "            df=pd.read_csv(self.config.data_path)\n",
    "            train_data, test_data = train_test_split(df, test_size=0.2, random_state=42)\n",
    "            train_data.to_csv(os.path.join(self.config.root_dir, \"train_data.csv\"), index=False)\n",
    "            test_data.to_csv(os.path.join(self.config.root_dir, \"test_data.csv\"), index=False)\n",
    "            logger.info(\"Train-test split completed successfully.\")\n",
    "            logger.info(f\"Train data shape: {train_data.shape}\")\n",
    "            logger.info(f\"Test data shape: {test_data.shape}\")\n",
    "            return train_data, test_data\n",
    "        except Exception as e:\n",
    "            logger.error(f\"Error occurred while splitting data: {e}\")\n",
    "            return None, None\n"
   ]
  },
  {
   "cell_type": "code",
   "execution_count": 8,
   "id": "c6b66e8a",
   "metadata": {},
   "outputs": [
    {
     "name": "stdout",
     "output_type": "stream",
     "text": [
      "[2025-10-05 17:12:11,723] :INFO:common: Created directory at: artifacts :\n",
      "[2025-10-05 17:12:11,724] :INFO:common: Created directory at: artifacts\\data_transformation :\n",
      "[2025-10-05 17:12:11,756] :INFO:312214312: Train-test split completed successfully. :\n",
      "[2025-10-05 17:12:11,756] :INFO:312214312: Train data shape: (914, 13) :\n",
      "[2025-10-05 17:12:11,756] :INFO:312214312: Test data shape: (229, 13) :\n"
     ]
    }
   ],
   "source": [
    "try:\n",
    "    config = ConfigurationManager()\n",
    "    data_transformation_config = config.get_data_transformation_config()\n",
    "    data_transformation=DataTransformation(config=data_transformation_config)\n",
    "    train_test_split=data_transformation.train_test_split()\n",
    "except Exception as e:\n",
    "    raise e"
   ]
  },
  {
   "cell_type": "code",
   "execution_count": null,
   "id": "fe3a6c2a",
   "metadata": {},
   "outputs": [],
   "source": []
  }
 ],
 "metadata": {
  "kernelspec": {
   "display_name": "venv",
   "language": "python",
   "name": "python3"
  },
  "language_info": {
   "codemirror_mode": {
    "name": "ipython",
    "version": 3
   },
   "file_extension": ".py",
   "mimetype": "text/x-python",
   "name": "python",
   "nbconvert_exporter": "python",
   "pygments_lexer": "ipython3",
   "version": "3.11.0"
  }
 },
 "nbformat": 4,
 "nbformat_minor": 5
}
