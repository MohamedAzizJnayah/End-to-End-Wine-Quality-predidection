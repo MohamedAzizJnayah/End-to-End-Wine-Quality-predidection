{
 "cells": [
  {
   "cell_type": "code",
   "execution_count": 1,
   "id": "30ba252c",
   "metadata": {},
   "outputs": [],
   "source": [
    "import os"
   ]
  },
  {
   "cell_type": "code",
   "execution_count": 2,
   "id": "5fa7eb50",
   "metadata": {},
   "outputs": [
    {
     "data": {
      "text/plain": [
       "'d:\\\\End-to-End-Wine-Quality-predidection\\\\research'"
      ]
     },
     "execution_count": 2,
     "metadata": {},
     "output_type": "execute_result"
    }
   ],
   "source": [
    "%pwd"
   ]
  },
  {
   "cell_type": "code",
   "execution_count": 3,
   "id": "9b3bfb36",
   "metadata": {},
   "outputs": [],
   "source": [
    "os.chdir(\"../\")"
   ]
  },
  {
   "cell_type": "code",
   "execution_count": 4,
   "id": "c06b8ed1",
   "metadata": {},
   "outputs": [
    {
     "data": {
      "text/plain": [
       "'d:\\\\End-to-End-Wine-Quality-predidection'"
      ]
     },
     "execution_count": 4,
     "metadata": {},
     "output_type": "execute_result"
    }
   ],
   "source": [
    "%pwd"
   ]
  },
  {
   "cell_type": "code",
   "execution_count": 5,
   "id": "4da23ea2",
   "metadata": {},
   "outputs": [],
   "source": [
    "#Prepare Entity\n",
    "from dataclasses import dataclass\n",
    "\n",
    "from pathlib import Path\n",
    "\n",
    "\n",
    "@dataclass\n",
    "class DataValidationConfig:\n",
    "    root_dir: Path\n",
    "    unzip_data_dir: Path\n",
    "    STATUS_FILE: Path\n",
    "    all_schema:dict\n"
   ]
  },
  {
   "cell_type": "code",
   "execution_count": 6,
   "id": "0fcd7aca",
   "metadata": {},
   "outputs": [],
   "source": [
    "#Configuration Manager\n",
    "\n",
    "from ML_Project.constants import *\n",
    "from ML_Project.entity.config_entity import DataIngestionConfig\n",
    "from ML_Project.utils.common import create_directories\n",
    "\n",
    "\n",
    "class ConfigurationManager:\n",
    "    def __init__(\n",
    "        self,\n",
    "        config_filepath = CONFIG_FILE_PATH,\n",
    "        params_filepath = PARAMS_FILE_PATH,\n",
    "        schema_filepath= SCHEMA_FILE_PATH\n",
    "    ):\n",
    "        self.config = read_yaml(config_filepath)\n",
    "        self.params = read_yaml(params_filepath)\n",
    "        self.schema = read_yaml(schema_filepath)\n",
    "        create_directories([Path(self.config.artifact_root)])\n",
    "\n",
    "    def get_data_ingestion_config(self) -> DataIngestionConfig:\n",
    "    \n",
    "        config = self.config.data_ingestion\n",
    "        data_ingestion_config = DataIngestionConfig(\n",
    "            root_dir=config.root_dir,\n",
    "            source_url=config.source_URL,\n",
    "            local_data_file=config.local_data_file,\n",
    "            unzip_dir=config.unzip_dir,\n",
    "            artifact_dir=self.config.artifact_root\n",
    "        )\n",
    "       \n",
    "        return data_ingestion_config\n",
    "    \n",
    "    def get_data_validation_config(self) -> DataValidationConfig:\n",
    "        config=self.config.data_validation\n",
    "        root_dir=Path(config.root_dir)\n",
    "        create_directories([root_dir])\n",
    "        data_validation_config=DataValidationConfig(\n",
    "            root_dir=Path(config.root_dir),\n",
    "            unzip_data_dir=Path(config.unzip_data_dir),\n",
    "            STATUS_FILE=Path(config.STATUS_FILE),\n",
    "            all_schema=self.schema\n",
    "        )\n",
    "        return data_validation_config\n"
   ]
  },
  {
   "cell_type": "code",
   "execution_count": 7,
   "id": "8adb01a1",
   "metadata": {},
   "outputs": [
    {
     "name": "stdout",
     "output_type": "stream",
     "text": [
      "[2025-10-04 21:11:52,229] :INFO:common: Created directory at: artifacts :\n",
      "[2025-10-04 21:11:52,232] :INFO:common: Created directory at: artifacts\\data_validation :\n"
     ]
    },
    {
     "data": {
      "text/plain": [
       "DataValidationConfig(root_dir=WindowsPath('artifacts/data_validation'), unzip_data_dir=WindowsPath('artifacts/data_ingestion/WineQT.csv'), STATUS_FILE=WindowsPath('artifacts/data_validation/status.txt'), all_schema=ConfigBox({'COLUMNS': {'fixed acidity': 'float64', 'volatile acidity': 'float64', 'citric acid': 'float64', 'residual sugar': 'float64', 'chlorides': 'float64', 'free sulfur dioxide': 'float64', 'total sulfur dioxide': 'float64', 'density': 'float64', 'pH': 'float64', 'sulphates': 'float64', 'alcohol': 'float64', 'quality': 'int64'}, 'TARGET_COLUMN': {'name': 'quality'}}))"
      ]
     },
     "execution_count": 7,
     "metadata": {},
     "output_type": "execute_result"
    }
   ],
   "source": [
    "obj=ConfigurationManager()\n",
    "obj.get_data_validation_config()"
   ]
  },
  {
   "cell_type": "code",
   "execution_count": 8,
   "id": "f9d89e95",
   "metadata": {},
   "outputs": [],
   "source": [
    "#Create a Validation Component\n",
    "from ML_Project.logging import logger\n",
    "import pandas as pd\n",
    "\n",
    "\n",
    "class DataValidation:\n",
    "    def __init__(self, config:DataValidationConfig):\n",
    "        self.config=config\n",
    "\n",
    "    def validate_data_columns(self):\n",
    "        # Implement validation logic here\n",
    "        try:\n",
    "            df=pd.read_csv(self.config.unzip_data_dir)\n",
    "            expected_columns=self.config.all_schema[\"COLUMNS\"]\n",
    "            for column in expected_columns:\n",
    "                if column not in df.columns:\n",
    "                    with open(self.config.STATUS_FILE, 'w') as f:\n",
    "                        f.write(f\"Validation Status: {column}: FAILED\")\n",
    "                    logger.info(f\"Column {column} is missing in the data.\")\n",
    "                    return\n",
    "            with open(self.config.STATUS_FILE, 'w') as f:\n",
    "                f.write(\"Validation Status: PASSED\")\n",
    "                logger.info(\"All columns are present in the data.\")\n",
    "        except Exception as e:\n",
    "            logger.error(f\"Error during column validation: {e}\")\n",
    "            raise e\n",
    "\n",
    "    def validate_data_types(self):\n",
    "        try:\n",
    "            df=pd.read_csv(self.config.unzip_data_dir)\n",
    "            expected_dtypes=self.config.all_schema[\"COLUMNS\"]\n",
    "            for col,dtype in df.dtypes.items():\n",
    "                if str(dtype) != expected_dtypes.get(col) and (col != \"Id\"):\n",
    "                    with open(self.config.STATUS_FILE, 'w') as f:\n",
    "                        f.write(\"Validation Status: FAILED\")\n",
    "                    logger.info(f\"Data type mismatch for column {col}: expected {expected_dtypes.get(col)}, got {dtype}\")\n",
    "                    return\n",
    "\n",
    "            with open(self.config.STATUS_FILE, 'w') as f:\n",
    "                f.write(\"Validation Status: PASSED\")\n",
    "        except Exception as e:\n",
    "            logger.error(f\"Error during data type validation: {e}\")\n",
    "            raise e\n"
   ]
  },
  {
   "cell_type": "code",
   "execution_count": 9,
   "id": "a5b8c778",
   "metadata": {},
   "outputs": [
    {
     "name": "stdout",
     "output_type": "stream",
     "text": [
      "[2025-10-04 21:11:52,700] :INFO:common: Created directory at: artifacts :\n",
      "[2025-10-04 21:11:52,701] :INFO:common: Created directory at: artifacts\\data_validation :\n",
      "[2025-10-04 21:11:52,707] :INFO:2391972070: All columns are present in the data. :\n"
     ]
    }
   ],
   "source": [
    "try:\n",
    "    config_manager=ConfigurationManager()\n",
    "    data_validation_config=config_manager.get_data_validation_config()\n",
    "    data_validation=DataValidation(config=data_validation_config)\n",
    "    data_validation.validate_data_columns()\n",
    "    data_validation.validate_data_types()\n",
    "except Exception as e:\n",
    "    logger.error(f\"Error in Data Validation: {e}\")\n",
    "    raise e"
   ]
  },
  {
   "cell_type": "code",
   "execution_count": null,
   "id": "9525b93e",
   "metadata": {},
   "outputs": [],
   "source": []
  }
 ],
 "metadata": {
  "kernelspec": {
   "display_name": "venv",
   "language": "python",
   "name": "python3"
  },
  "language_info": {
   "codemirror_mode": {
    "name": "ipython",
    "version": 3
   },
   "file_extension": ".py",
   "mimetype": "text/x-python",
   "name": "python",
   "nbconvert_exporter": "python",
   "pygments_lexer": "ipython3",
   "version": "3.11.0"
  }
 },
 "nbformat": 4,
 "nbformat_minor": 5
}
